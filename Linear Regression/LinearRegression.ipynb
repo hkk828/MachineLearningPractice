{
 "cells": [
  {
   "cell_type": "code",
   "execution_count": 1,
   "metadata": {},
   "outputs": [],
   "source": [
    "import pandas as pd\n",
    "import numpy as np"
   ]
  },
  {
   "cell_type": "markdown",
   "metadata": {},
   "source": [
    "### Upload data and Drop NaN"
   ]
  },
  {
   "cell_type": "code",
   "execution_count": 2,
   "metadata": {},
   "outputs": [
    {
     "data": {
      "text/html": [
       "<div>\n",
       "<style scoped>\n",
       "    .dataframe tbody tr th:only-of-type {\n",
       "        vertical-align: middle;\n",
       "    }\n",
       "\n",
       "    .dataframe tbody tr th {\n",
       "        vertical-align: top;\n",
       "    }\n",
       "\n",
       "    .dataframe thead th {\n",
       "        text-align: right;\n",
       "    }\n",
       "</style>\n",
       "<table border=\"1\" class=\"dataframe\">\n",
       "  <thead>\n",
       "    <tr style=\"text-align: right;\">\n",
       "      <th></th>\n",
       "      <th>longitude</th>\n",
       "      <th>latitude</th>\n",
       "      <th>housing_median_age</th>\n",
       "      <th>total_rooms</th>\n",
       "      <th>total_bedrooms</th>\n",
       "      <th>population</th>\n",
       "      <th>households</th>\n",
       "      <th>median_income</th>\n",
       "      <th>median_house_value</th>\n",
       "      <th>ocean_proximity</th>\n",
       "    </tr>\n",
       "  </thead>\n",
       "  <tbody>\n",
       "    <tr>\n",
       "      <th>0</th>\n",
       "      <td>-122.23</td>\n",
       "      <td>37.88</td>\n",
       "      <td>41.0</td>\n",
       "      <td>880.0</td>\n",
       "      <td>129.0</td>\n",
       "      <td>322.0</td>\n",
       "      <td>126.0</td>\n",
       "      <td>8.3252</td>\n",
       "      <td>452600.0</td>\n",
       "      <td>NEAR BAY</td>\n",
       "    </tr>\n",
       "    <tr>\n",
       "      <th>1</th>\n",
       "      <td>-122.22</td>\n",
       "      <td>37.86</td>\n",
       "      <td>21.0</td>\n",
       "      <td>7099.0</td>\n",
       "      <td>1106.0</td>\n",
       "      <td>2401.0</td>\n",
       "      <td>1138.0</td>\n",
       "      <td>8.3014</td>\n",
       "      <td>358500.0</td>\n",
       "      <td>NEAR BAY</td>\n",
       "    </tr>\n",
       "    <tr>\n",
       "      <th>2</th>\n",
       "      <td>-122.24</td>\n",
       "      <td>37.85</td>\n",
       "      <td>52.0</td>\n",
       "      <td>1467.0</td>\n",
       "      <td>190.0</td>\n",
       "      <td>496.0</td>\n",
       "      <td>177.0</td>\n",
       "      <td>7.2574</td>\n",
       "      <td>352100.0</td>\n",
       "      <td>NEAR BAY</td>\n",
       "    </tr>\n",
       "    <tr>\n",
       "      <th>3</th>\n",
       "      <td>-122.25</td>\n",
       "      <td>37.85</td>\n",
       "      <td>52.0</td>\n",
       "      <td>1274.0</td>\n",
       "      <td>235.0</td>\n",
       "      <td>558.0</td>\n",
       "      <td>219.0</td>\n",
       "      <td>5.6431</td>\n",
       "      <td>341300.0</td>\n",
       "      <td>NEAR BAY</td>\n",
       "    </tr>\n",
       "    <tr>\n",
       "      <th>4</th>\n",
       "      <td>-122.25</td>\n",
       "      <td>37.85</td>\n",
       "      <td>52.0</td>\n",
       "      <td>1627.0</td>\n",
       "      <td>280.0</td>\n",
       "      <td>565.0</td>\n",
       "      <td>259.0</td>\n",
       "      <td>3.8462</td>\n",
       "      <td>342200.0</td>\n",
       "      <td>NEAR BAY</td>\n",
       "    </tr>\n",
       "    <tr>\n",
       "      <th>5</th>\n",
       "      <td>-122.25</td>\n",
       "      <td>37.85</td>\n",
       "      <td>52.0</td>\n",
       "      <td>919.0</td>\n",
       "      <td>213.0</td>\n",
       "      <td>413.0</td>\n",
       "      <td>193.0</td>\n",
       "      <td>4.0368</td>\n",
       "      <td>269700.0</td>\n",
       "      <td>NEAR BAY</td>\n",
       "    </tr>\n",
       "    <tr>\n",
       "      <th>6</th>\n",
       "      <td>-122.25</td>\n",
       "      <td>37.84</td>\n",
       "      <td>52.0</td>\n",
       "      <td>2535.0</td>\n",
       "      <td>489.0</td>\n",
       "      <td>1094.0</td>\n",
       "      <td>514.0</td>\n",
       "      <td>3.6591</td>\n",
       "      <td>299200.0</td>\n",
       "      <td>NEAR BAY</td>\n",
       "    </tr>\n",
       "    <tr>\n",
       "      <th>7</th>\n",
       "      <td>-122.25</td>\n",
       "      <td>37.84</td>\n",
       "      <td>52.0</td>\n",
       "      <td>3104.0</td>\n",
       "      <td>687.0</td>\n",
       "      <td>1157.0</td>\n",
       "      <td>647.0</td>\n",
       "      <td>3.1200</td>\n",
       "      <td>241400.0</td>\n",
       "      <td>NEAR BAY</td>\n",
       "    </tr>\n",
       "    <tr>\n",
       "      <th>8</th>\n",
       "      <td>-122.26</td>\n",
       "      <td>37.84</td>\n",
       "      <td>42.0</td>\n",
       "      <td>2555.0</td>\n",
       "      <td>665.0</td>\n",
       "      <td>1206.0</td>\n",
       "      <td>595.0</td>\n",
       "      <td>2.0804</td>\n",
       "      <td>226700.0</td>\n",
       "      <td>NEAR BAY</td>\n",
       "    </tr>\n",
       "    <tr>\n",
       "      <th>9</th>\n",
       "      <td>-122.25</td>\n",
       "      <td>37.84</td>\n",
       "      <td>52.0</td>\n",
       "      <td>3549.0</td>\n",
       "      <td>707.0</td>\n",
       "      <td>1551.0</td>\n",
       "      <td>714.0</td>\n",
       "      <td>3.6912</td>\n",
       "      <td>261100.0</td>\n",
       "      <td>NEAR BAY</td>\n",
       "    </tr>\n",
       "  </tbody>\n",
       "</table>\n",
       "</div>"
      ],
      "text/plain": [
       "   longitude  latitude  housing_median_age  total_rooms  total_bedrooms  \\\n",
       "0    -122.23     37.88                41.0        880.0           129.0   \n",
       "1    -122.22     37.86                21.0       7099.0          1106.0   \n",
       "2    -122.24     37.85                52.0       1467.0           190.0   \n",
       "3    -122.25     37.85                52.0       1274.0           235.0   \n",
       "4    -122.25     37.85                52.0       1627.0           280.0   \n",
       "5    -122.25     37.85                52.0        919.0           213.0   \n",
       "6    -122.25     37.84                52.0       2535.0           489.0   \n",
       "7    -122.25     37.84                52.0       3104.0           687.0   \n",
       "8    -122.26     37.84                42.0       2555.0           665.0   \n",
       "9    -122.25     37.84                52.0       3549.0           707.0   \n",
       "\n",
       "   population  households  median_income  median_house_value ocean_proximity  \n",
       "0       322.0       126.0         8.3252            452600.0        NEAR BAY  \n",
       "1      2401.0      1138.0         8.3014            358500.0        NEAR BAY  \n",
       "2       496.0       177.0         7.2574            352100.0        NEAR BAY  \n",
       "3       558.0       219.0         5.6431            341300.0        NEAR BAY  \n",
       "4       565.0       259.0         3.8462            342200.0        NEAR BAY  \n",
       "5       413.0       193.0         4.0368            269700.0        NEAR BAY  \n",
       "6      1094.0       514.0         3.6591            299200.0        NEAR BAY  \n",
       "7      1157.0       647.0         3.1200            241400.0        NEAR BAY  \n",
       "8      1206.0       595.0         2.0804            226700.0        NEAR BAY  \n",
       "9      1551.0       714.0         3.6912            261100.0        NEAR BAY  "
      ]
     },
     "execution_count": 2,
     "metadata": {},
     "output_type": "execute_result"
    }
   ],
   "source": [
    "X = pd.read_csv('housing.csv')\n",
    "# NaN value exist! -> X_train.isnull().sum()\n",
    "X.dropna(inplace=True) \n",
    "X.head(10)"
   ]
  },
  {
   "cell_type": "markdown",
   "metadata": {},
   "source": [
    "### Split predictors and responses (predictors into train/test)"
   ]
  },
  {
   "cell_type": "code",
   "execution_count": 3,
   "metadata": {},
   "outputs": [],
   "source": [
    "Y = X.pop(\"median_house_value\")\n",
    "Y /= 10000\n",
    "from sklearn.model_selection import train_test_split\n",
    "X_train, X_test, Y_train, Y_test = train_test_split(X, Y, test_size=0.2, random_state=5, shuffle=True)"
   ]
  },
  {
   "cell_type": "markdown",
   "metadata": {},
   "source": [
    "### Encode categorical variable into integers (\"ocean_proximity\")"
   ]
  },
  {
   "cell_type": "code",
   "execution_count": 5,
   "metadata": {},
   "outputs": [
    {
     "data": {
      "text/html": [
       "<div>\n",
       "<style scoped>\n",
       "    .dataframe tbody tr th:only-of-type {\n",
       "        vertical-align: middle;\n",
       "    }\n",
       "\n",
       "    .dataframe tbody tr th {\n",
       "        vertical-align: top;\n",
       "    }\n",
       "\n",
       "    .dataframe thead th {\n",
       "        text-align: right;\n",
       "    }\n",
       "</style>\n",
       "<table border=\"1\" class=\"dataframe\">\n",
       "  <thead>\n",
       "    <tr style=\"text-align: right;\">\n",
       "      <th></th>\n",
       "      <th>longitude</th>\n",
       "      <th>latitude</th>\n",
       "      <th>housing_median_age</th>\n",
       "      <th>total_rooms</th>\n",
       "      <th>total_bedrooms</th>\n",
       "      <th>population</th>\n",
       "      <th>households</th>\n",
       "      <th>median_income</th>\n",
       "      <th>ocean_proximity</th>\n",
       "    </tr>\n",
       "  </thead>\n",
       "  <tbody>\n",
       "    <tr>\n",
       "      <th>2998</th>\n",
       "      <td>-119.02</td>\n",
       "      <td>35.32</td>\n",
       "      <td>14.0</td>\n",
       "      <td>2927.0</td>\n",
       "      <td>588.0</td>\n",
       "      <td>1821.0</td>\n",
       "      <td>561.0</td>\n",
       "      <td>3.3529</td>\n",
       "      <td>2</td>\n",
       "    </tr>\n",
       "    <tr>\n",
       "      <th>7892</th>\n",
       "      <td>-118.07</td>\n",
       "      <td>33.88</td>\n",
       "      <td>18.0</td>\n",
       "      <td>2436.0</td>\n",
       "      <td>375.0</td>\n",
       "      <td>1303.0</td>\n",
       "      <td>386.0</td>\n",
       "      <td>6.1968</td>\n",
       "      <td>0</td>\n",
       "    </tr>\n",
       "    <tr>\n",
       "      <th>18704</th>\n",
       "      <td>-122.38</td>\n",
       "      <td>40.56</td>\n",
       "      <td>23.0</td>\n",
       "      <td>2281.0</td>\n",
       "      <td>408.0</td>\n",
       "      <td>1164.0</td>\n",
       "      <td>420.0</td>\n",
       "      <td>3.5347</td>\n",
       "      <td>2</td>\n",
       "    </tr>\n",
       "    <tr>\n",
       "      <th>10706</th>\n",
       "      <td>-117.72</td>\n",
       "      <td>33.61</td>\n",
       "      <td>26.0</td>\n",
       "      <td>2653.0</td>\n",
       "      <td>621.0</td>\n",
       "      <td>774.0</td>\n",
       "      <td>584.0</td>\n",
       "      <td>2.4900</td>\n",
       "      <td>0</td>\n",
       "    </tr>\n",
       "    <tr>\n",
       "      <th>5593</th>\n",
       "      <td>-118.25</td>\n",
       "      <td>33.80</td>\n",
       "      <td>36.0</td>\n",
       "      <td>1697.0</td>\n",
       "      <td>394.0</td>\n",
       "      <td>1274.0</td>\n",
       "      <td>396.0</td>\n",
       "      <td>3.3500</td>\n",
       "      <td>0</td>\n",
       "    </tr>\n",
       "    <tr>\n",
       "      <th>...</th>\n",
       "      <td>...</td>\n",
       "      <td>...</td>\n",
       "      <td>...</td>\n",
       "      <td>...</td>\n",
       "      <td>...</td>\n",
       "      <td>...</td>\n",
       "      <td>...</td>\n",
       "      <td>...</td>\n",
       "      <td>...</td>\n",
       "    </tr>\n",
       "    <tr>\n",
       "      <th>1038</th>\n",
       "      <td>-120.93</td>\n",
       "      <td>38.50</td>\n",
       "      <td>15.0</td>\n",
       "      <td>1248.0</td>\n",
       "      <td>234.0</td>\n",
       "      <td>529.0</td>\n",
       "      <td>216.0</td>\n",
       "      <td>3.3393</td>\n",
       "      <td>2</td>\n",
       "    </tr>\n",
       "    <tr>\n",
       "      <th>5577</th>\n",
       "      <td>-118.30</td>\n",
       "      <td>33.84</td>\n",
       "      <td>37.0</td>\n",
       "      <td>1241.0</td>\n",
       "      <td>226.0</td>\n",
       "      <td>621.0</td>\n",
       "      <td>255.0</td>\n",
       "      <td>4.9196</td>\n",
       "      <td>0</td>\n",
       "    </tr>\n",
       "    <tr>\n",
       "      <th>3070</th>\n",
       "      <td>-119.25</td>\n",
       "      <td>35.79</td>\n",
       "      <td>8.0</td>\n",
       "      <td>3271.0</td>\n",
       "      <td>797.0</td>\n",
       "      <td>2700.0</td>\n",
       "      <td>688.0</td>\n",
       "      <td>1.7418</td>\n",
       "      <td>2</td>\n",
       "    </tr>\n",
       "    <tr>\n",
       "      <th>18817</th>\n",
       "      <td>-120.48</td>\n",
       "      <td>39.66</td>\n",
       "      <td>32.0</td>\n",
       "      <td>1516.0</td>\n",
       "      <td>289.0</td>\n",
       "      <td>304.0</td>\n",
       "      <td>131.0</td>\n",
       "      <td>1.8839</td>\n",
       "      <td>2</td>\n",
       "    </tr>\n",
       "    <tr>\n",
       "      <th>2938</th>\n",
       "      <td>-118.94</td>\n",
       "      <td>35.36</td>\n",
       "      <td>19.0</td>\n",
       "      <td>2714.0</td>\n",
       "      <td>512.0</td>\n",
       "      <td>1823.0</td>\n",
       "      <td>500.0</td>\n",
       "      <td>3.1281</td>\n",
       "      <td>2</td>\n",
       "    </tr>\n",
       "  </tbody>\n",
       "</table>\n",
       "<p>16346 rows × 9 columns</p>\n",
       "</div>"
      ],
      "text/plain": [
       "       longitude  latitude  housing_median_age  total_rooms  total_bedrooms  \\\n",
       "2998     -119.02     35.32                14.0       2927.0           588.0   \n",
       "7892     -118.07     33.88                18.0       2436.0           375.0   \n",
       "18704    -122.38     40.56                23.0       2281.0           408.0   \n",
       "10706    -117.72     33.61                26.0       2653.0           621.0   \n",
       "5593     -118.25     33.80                36.0       1697.0           394.0   \n",
       "...          ...       ...                 ...          ...             ...   \n",
       "1038     -120.93     38.50                15.0       1248.0           234.0   \n",
       "5577     -118.30     33.84                37.0       1241.0           226.0   \n",
       "3070     -119.25     35.79                 8.0       3271.0           797.0   \n",
       "18817    -120.48     39.66                32.0       1516.0           289.0   \n",
       "2938     -118.94     35.36                19.0       2714.0           512.0   \n",
       "\n",
       "       population  households  median_income  ocean_proximity  \n",
       "2998       1821.0       561.0         3.3529                2  \n",
       "7892       1303.0       386.0         6.1968                0  \n",
       "18704      1164.0       420.0         3.5347                2  \n",
       "10706       774.0       584.0         2.4900                0  \n",
       "5593       1274.0       396.0         3.3500                0  \n",
       "...           ...         ...            ...              ...  \n",
       "1038        529.0       216.0         3.3393                2  \n",
       "5577        621.0       255.0         4.9196                0  \n",
       "3070       2700.0       688.0         1.7418                2  \n",
       "18817       304.0       131.0         1.8839                2  \n",
       "2938       1823.0       500.0         3.1281                2  \n",
       "\n",
       "[16346 rows x 9 columns]"
      ]
     },
     "execution_count": 5,
     "metadata": {},
     "output_type": "execute_result"
    }
   ],
   "source": [
    "category = list(set(X[\"ocean_proximity\"]))\n",
    "category_idx = range(len(category))\n",
    "X_train = X_train.replace(category, category_idx)\n",
    "X_test = X_test.replace(category, category_idx)\n",
    "X_train"
   ]
  },
  {
   "cell_type": "markdown",
   "metadata": {},
   "source": [
    "### Unregularized Linear Regression"
   ]
  },
  {
   "cell_type": "code",
   "execution_count": 6,
   "metadata": {},
   "outputs": [
    {
     "data": {
      "text/plain": [
       "(-349.7089836643659,\n",
       " array([-4.10540151e+00, -3.92033284e+00,  1.22286393e-01, -7.63915890e-04,\n",
       "         1.12995074e-02, -3.80646960e-03,  4.61740290e-03,  3.98313341e+00,\n",
       "        -6.15890157e-01]))"
      ]
     },
     "execution_count": 6,
     "metadata": {},
     "output_type": "execute_result"
    }
   ],
   "source": [
    "from sklearn.linear_model import LinearRegression\n",
    "LinReg = LinearRegression()\n",
    "LinReg.fit(X_train, Y_train)\n",
    "LinReg.intercept_, LinReg.coef_"
   ]
  },
  {
   "cell_type": "code",
   "execution_count": 7,
   "metadata": {},
   "outputs": [
    {
     "name": "stdout",
     "output_type": "stream",
     "text": [
      "Unregularized Linear Regression\n",
      "R^2: 0.6407817584939959, train RSS: 47.66238747100593, test RSS: 49.70798372832744\n"
     ]
    }
   ],
   "source": [
    "Rsquared = LinReg.score(X_train, Y_train)\n",
    "train_RSS = sum((Y_train - LinReg.predict(X_train))**2) / len(Y_train)\n",
    "test_RSS = sum((Y_test - LinReg.predict(X_test))**2) / len(Y_test)\n",
    "print(\"Unregularized Linear Regression\")\n",
    "print(\"R^2: {}, train RSS: {}, test RSS: {}\".format(Rsquared, train_RSS, test_RSS))"
   ]
  },
  {
   "cell_type": "markdown",
   "metadata": {},
   "source": [
    "### Ridge Regression"
   ]
  },
  {
   "cell_type": "code",
   "execution_count": 8,
   "metadata": {},
   "outputs": [
    {
     "data": {
      "text/plain": [
       "(-349.62629050557337,\n",
       " array([-4.10441533e+00, -3.91935832e+00,  1.22303321e-01, -7.63965147e-04,\n",
       "         1.12982728e-02, -3.80653133e-03,  4.61939758e-03,  3.98316881e+00,\n",
       "        -6.16107242e-01]))"
      ]
     },
     "execution_count": 8,
     "metadata": {},
     "output_type": "execute_result"
    }
   ],
   "source": [
    "from sklearn.linear_model import Ridge\n",
    "LinRegRidge = Ridge(alpha=1)\n",
    "LinRegRidge.fit(X_train, Y_train)\n",
    "LinRegRidge.intercept_, LinRegRidge.coef_"
   ]
  },
  {
   "cell_type": "code",
   "execution_count": 9,
   "metadata": {},
   "outputs": [
    {
     "name": "stdout",
     "output_type": "stream",
     "text": [
      "Ridge Regression\n",
      "R^2: 0.6407817549942958, train RSS: 47.662387935358794, test RSS: 49.70802880419137\n"
     ]
    }
   ],
   "source": [
    "Rsquared_ridge = LinRegRidge.score(X_train, Y_train)\n",
    "train_RSS_ridge = sum((Y_train - LinRegRidge.predict(X_train))**2) / len(Y_train)\n",
    "test_RSS_ridge = sum((Y_test - LinRegRidge.predict(X_test))**2) / len(Y_test)\n",
    "print(\"Ridge Regression\")\n",
    "print(\"R^2: {}, train RSS: {}, test RSS: {}\".format(Rsquared_ridge, train_RSS_ridge, test_RSS_ridge))"
   ]
  },
  {
   "cell_type": "markdown",
   "metadata": {},
   "source": [
    "### Lasso Regression"
   ]
  },
  {
   "cell_type": "code",
   "execution_count": 10,
   "metadata": {},
   "outputs": [
    {
     "data": {
      "text/plain": [
       "(-33.31742607511385,\n",
       " array([-4.31786707e-01, -5.54262631e-01,  1.75055880e-01, -1.10940056e-03,\n",
       "         6.28623989e-03, -3.89239802e-03,  1.28596113e-02,  4.17862542e+00,\n",
       "        -3.79628511e-01]))"
      ]
     },
     "execution_count": 10,
     "metadata": {},
     "output_type": "execute_result"
    }
   ],
   "source": [
    "from sklearn.linear_model import Lasso\n",
    "LinRegLasso = Lasso(alpha=1)\n",
    "LinRegLasso.fit(X_train, Y_train)\n",
    "LinRegLasso.intercept_, LinRegLasso.coef_"
   ]
  },
  {
   "cell_type": "code",
   "execution_count": 11,
   "metadata": {},
   "outputs": [
    {
     "name": "stdout",
     "output_type": "stream",
     "text": [
      "Lasso Regression\n",
      "R^2: 0.5878436270087826, train RSS: 54.68641198674636, test RSS: 57.15031165652484\n"
     ]
    }
   ],
   "source": [
    "Rsquared_lasso = LinRegLasso.score(X_train, Y_train)\n",
    "train_RSS_lasso = sum((Y_train - LinRegLasso.predict(X_train))**2) / len(Y_train)\n",
    "test_RSS_lasso = sum((Y_test - LinRegLasso.predict(X_test))**2) / len(Y_test)\n",
    "print(\"Lasso Regression\")\n",
    "print(\"R^2: {}, train RSS: {}, test RSS: {}\".format(Rsquared_lasso, train_RSS_lasso, test_RSS_lasso))"
   ]
  },
  {
   "cell_type": "markdown",
   "metadata": {},
   "source": [
    "### Elastic Net"
   ]
  },
  {
   "cell_type": "code",
   "execution_count": 12,
   "metadata": {},
   "outputs": [
    {
     "data": {
      "text/plain": [
       "(-71.71394060955004,\n",
       " array([-8.99810402e-01, -9.61469476e-01,  1.68146280e-01, -1.66214402e-04,\n",
       "         1.99819041e-03, -4.29145546e-03,  1.35318820e-02,  3.53718909e+00,\n",
       "        -6.69133635e-01]))"
      ]
     },
     "execution_count": 12,
     "metadata": {},
     "output_type": "execute_result"
    }
   ],
   "source": [
    "from sklearn.linear_model import ElasticNet\n",
    "LinRegElastic = ElasticNet(alpha=1, l1_ratio=0.5)\n",
    "LinRegElastic.fit(X_train, Y_train)\n",
    "LinRegElastic.intercept_, LinRegElastic.coef_"
   ]
  },
  {
   "cell_type": "code",
   "execution_count": 13,
   "metadata": {},
   "outputs": [
    {
     "name": "stdout",
     "output_type": "stream",
     "text": [
      "Elastic Net\n",
      "R^2: 0.5888725411168073, train RSS: 54.549891907238234, test RSS: 56.97270256484672\n"
     ]
    }
   ],
   "source": [
    "Rsquared_elastic = LinRegElastic.score(X_train, Y_train)\n",
    "train_RSS_elastic = sum((Y_train - LinRegElastic.predict(X_train))**2) / len(Y_train)\n",
    "test_RSS_elastic = sum((Y_test - LinRegElastic.predict(X_test))**2) / len(Y_test)\n",
    "print(\"Elastic Net\")\n",
    "print(\"R^2: {}, train RSS: {}, test RSS: {}\".format(Rsquared_elastic, train_RSS_elastic, test_RSS_elastic))"
   ]
  }
 ],
 "metadata": {
  "kernelspec": {
   "display_name": "Python 3",
   "language": "python",
   "name": "python3"
  },
  "language_info": {
   "codemirror_mode": {
    "name": "ipython",
    "version": 3
   },
   "file_extension": ".py",
   "mimetype": "text/x-python",
   "name": "python",
   "nbconvert_exporter": "python",
   "pygments_lexer": "ipython3",
   "version": "3.8.2"
  }
 },
 "nbformat": 4,
 "nbformat_minor": 4
}
